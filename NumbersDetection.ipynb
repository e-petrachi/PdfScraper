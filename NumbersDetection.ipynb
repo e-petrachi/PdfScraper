{
 "cells": [
  {
   "cell_type": "code",
   "execution_count": 2,
   "metadata": {},
   "outputs": [],
   "source": [
    "import numpy as np"
   ]
  },
  {
   "cell_type": "code",
   "execution_count": 3,
   "metadata": {},
   "outputs": [],
   "source": [
    "import cv2"
   ]
  },
  {
   "cell_type": "code",
   "execution_count": 4,
   "metadata": {},
   "outputs": [],
   "source": [
    "import os"
   ]
  },
  {
   "cell_type": "code",
   "execution_count": 5,
   "metadata": {},
   "outputs": [],
   "source": [
    "from matplotlib.pyplot import imshow\n",
    "from matplotlib import pyplot as plt\n",
    "from PIL import Image\n",
    "%matplotlib inline"
   ]
  },
  {
   "cell_type": "code",
   "execution_count": 13,
   "metadata": {},
   "outputs": [],
   "source": [
    "from IPython.core import display as ICD"
   ]
  },
  {
   "cell_type": "code",
   "execution_count": 6,
   "metadata": {},
   "outputs": [],
   "source": [
    "import pytesseract"
   ]
  },
  {
   "cell_type": "code",
   "execution_count": 7,
   "metadata": {},
   "outputs": [],
   "source": [
    "# If you don't have tesseract executable in your PATH, include the following:\n",
    "pytesseract.pytesseract.tesseract_cmd = r'C:\\Program Files\\Tesseract-OCR\\tesseract'"
   ]
  },
  {
   "cell_type": "code",
   "execution_count": 8,
   "metadata": {},
   "outputs": [],
   "source": [
    "pages = set()\n",
    "ls = sorted(os.listdir('Figure'))\n",
    "for elem in ls:\n",
    "    try:\n",
    "        page = int(elem[5:7])\n",
    "        pages.add(int(elem[5:7]))\n",
    "    except:\n",
    "        pass"
   ]
  },
  {
   "cell_type": "code",
   "execution_count": 9,
   "metadata": {},
   "outputs": [
    {
     "data": {
      "text/plain": [
       "{24, 26, 28, 30, 32, 34, 36, 38, 40, 42, 44, 46, 48, 50, 52}"
      ]
     },
     "execution_count": 9,
     "metadata": {},
     "output_type": "execute_result"
    }
   ],
   "source": [
    "pages"
   ]
  },
  {
   "cell_type": "code",
   "execution_count": 59,
   "metadata": {},
   "outputs": [
    {
     "name": "stdout",
     "output_type": "stream",
     "text": [
      "<PIL.Image.Image image mode=RGB size=3390x1890 at 0x2719D625F60>\n",
      "<PIL.Image.Image image mode=RGB size=3390x1890 at 0x2719D859E80>\n",
      "<PIL.Image.Image image mode=RGB size=3390x1890 at 0x2719D625F60>\n",
      "<PIL.Image.Image image mode=RGB size=3343x1843 at 0x2719D61C240>\n",
      "<PIL.Image.Image image mode=RGB size=3343x1843 at 0x2719D625F60>\n",
      "<PIL.Image.Image image mode=RGB size=3343x1843 at 0x2719D61C358>\n",
      "<PIL.Image.Image image mode=RGB size=3343x1843 at 0x2719D625F60>\n",
      "<PIL.Image.Image image mode=RGB size=3390x1890 at 0x2719D61C240>\n",
      "<PIL.Image.Image image mode=RGB size=3343x1843 at 0x2719D625F60>\n",
      "<PIL.Image.Image image mode=RGB size=3343x1843 at 0x2719D61C358>\n",
      "<PIL.Image.Image image mode=RGB size=3343x1843 at 0x2719D625F60>\n",
      "<PIL.Image.Image image mode=RGB size=3343x1843 at 0x2719D61C240>\n",
      "<PIL.Image.Image image mode=RGB size=3343x1843 at 0x2719D625F60>\n",
      "<PIL.Image.Image image mode=RGB size=3343x1843 at 0x2719D61C358>\n",
      "<PIL.Image.Image image mode=RGB size=3343x1843 at 0x2719D625F60>\n"
     ]
    }
   ],
   "source": [
    "for page in sorted(pages):\n",
    "    files = []\n",
    "    size = [0,0]\n",
    "    for elem in ls:\n",
    "        if \"Page-\" + str(page) in elem:\n",
    "            files.append(elem)\n",
    "            if size[0] <=  Image.open('Figure/' + elem).size[0]:\n",
    "                size[0] = Image.open('Figure/' + elem).size[0]\n",
    "            size[1] = size[1]+Image.open('Figure/' + elem).size[1]\n",
    "            #print(elem, Image.open('Figure/' + elem).size)\n",
    "    \n",
    "    result = Image.new(\"RGB\", (size[0], size[1]))\n",
    "\n",
    "    for index, file in enumerate(files):\n",
    "        path = os.path.expanduser(file)\n",
    "        img = Image.open('Figure/' + path)\n",
    "        img.thumbnail((3390, 270), Image.ANTIALIAS)\n",
    "        y = index * 270\n",
    "        w, h = img.size\n",
    "        result.paste(img, (0, y, w, y + h))\n",
    "\n",
    "    result.save(os.path.expanduser('Saved/' + str(page) + '.png'))\n",
    "    print(result)"
   ]
  },
  {
   "cell_type": "code",
   "execution_count": 194,
   "metadata": {},
   "outputs": [],
   "source": [
    "ls = os.listdir('Saved')"
   ]
  },
  {
   "cell_type": "code",
   "execution_count": 189,
   "metadata": {},
   "outputs": [],
   "source": [
    "for image in ls:\n",
    "    if image[0] != '.': \n",
    "        img = cv2.imread('Saved/' + image)\n",
    "        lab = cv2.cvtColor(img, cv2.COLOR_BGR2LAB)\n",
    "        l, a, b = cv2.split(lab)\n",
    "        clahe = cv2.createCLAHE(clipLimit=3.0, tileGridSize=(8,8))\n",
    "        cl = clahe.apply(l)\n",
    "        clm = cv2.blur(cl, ksize=(4,4))\n",
    "        cv2.imwrite('Saved/m' + image,clm)"
   ]
  },
  {
   "cell_type": "code",
   "execution_count": 10,
   "metadata": {},
   "outputs": [],
   "source": [
    "ls = os.listdir('Saved')"
   ]
  },
  {
   "cell_type": "code",
   "execution_count": 202,
   "metadata": {},
   "outputs": [
    {
     "name": "stdout",
     "output_type": "stream",
     "text": [
      "24.png ['2', '9', '2', '-', '2', '4', '2', '-', '3', '-', '2', '4', '-', '2', '7', '1', '1', '-', '1', '6', '1', '2', '-', '2', '2', '2', '3']\n",
      "26.png ['-']\n",
      "28.png []\n",
      "30.png ['1', '4', '1', '1', '1', '7', '1', '2', '5', '3', '3', '1', '2', '5', '1', '4', '1', '1', '7', '1', '2', '5', '9', '2', '7', '1', '1', '4', '1', '1', '7', '1', '2', '5', '7', '9', '1', '2', '9', '1', '2', '7', '1', '2', '5', '1', '3', '3', '3', '8', '1', '2', '5', '1', '1', '7', '1', '4', '1', '2', '2', '1', '3', '2', '6', '6', '1', '2', '7', '9', '8', '7', '1', '1', '4', '1', '1', '7', '1', '2', '5', '1', '4', '5', '1', '3', '1', '1', '2', '4', '1', '1', '4', '6', '1', '2', '4', '5', '1', '2', '4', '1', '2', '6', '1', '3', '1', '1', '4', '6']\n",
      "32.png ['7', '1', '1', '4', '1', '1', '1', '7', '8', '6', '1', '2', '5', '1', '2', '5', '1', '3', '3', '8', '1', '1', '2', '5', '1', '3', '3', '7', '1', '1', '4', '1', '1', '1', '7', '1', '2', '5', '8', '4', '7', '1', '1', '4', '1', '1', '7', '1', '2', '5', '1', '4', '1', '1', '1', '7', '1', '2', '5', '7', '1', '1', '2', '5', '1', '1', '7', '1', '4', '1', '4', '1', '1', '1', '7', '1', '2', '5', '9', '5', '9', '7', '2', '8', '1', '4', '1', '8', '1', '1', '7', '1', '4', '1', '1', '2', '5', '1', '1', '7', '1', '2', '5', '7', '5', '3', '4', '1', '4', '7', '6', '7', '1', '1', '2', '5', '1', '1', '7', '1', '4', '9', '4', '3', '1', '1', '7', '1', '2', '5', '2']\n",
      "34.png ['1', '4', '6', '1', '3', '1', '1', '2', '4', '7', '9', '-', '1', '4', '6', '1', '3', '1', '6', '1', '2', '4', '1', '4', '6', '-', '1', '3', '1', '1', '2', '4', '9', '1', '4', '3', '1', '2', '9', '8', '1', '1', '2', '7', '1', '4', '6', '1', '4', '5', '1', '3', '1', '1', '4', '7', '1', '2', '4', '1', '2', '6', '5', '7', '9', '1', '3', '1', '1', '1', '2', '1', '1', '3', '1', '1', '2']\n",
      "36.png ['1', '4', '1', '1', '1', '7', '1', '2', '3', '1', '3', '1', '2', '5', '1', '3', '3', '1', '4', '1', '1', '1', '7', '1', '2', '3', '1', '3', '2', '7', '4', '1', '2', '3', '1', '4', '1', '1', '1', '7', '1', '4', '1', '1', '1', '7', '1', '2', '5', '1', '4', '1', '1', '1', '7', '1', '2', '5', '7', '1', '1', '4', '6', '1', '3', '1', '1', '2', '4', '1', '7', '8', '7', '7', '1', '3', '4', '1', '4', '6', '1', '3', '1', '1', '2', '4', '1', '2', '4', '1', '4', '6', '1', '3', '1', '1', '2', '4']\n",
      "38.png []\n",
      "40.png ['1', '1', '4', '8', '1', '2', '4', '2', '1', '2', '1', '2']\n",
      "42.png ['8', '3', '1', '2', '8', '2', '1', '8', '3', '1', '2', '8', '4', '9', '5', '1', '2', '1', '1', '2', '1', '1', '1', '1', '3', '1', '2', '1', '8', '3', '1', '2', '8', '1', '4', '6', '1', '3', '1', '1', '2', '4', '8', '3', '1', '2', '1', '4', '6', '6', '1', '2', '5', '1', '1', '4', '1', '2', '5', '1', '1', '5', '1', '2', '5', '9', '9', '1', '1', '4', '3', '1', '4', '6', '1', '3', '1', '1', '2', '4', '1', '2', '5', '1', '1', '5', '1', '2', '1', '1', '2', '1', '4', '6', '1', '2', '4', '1', '2', '1', '9', '2', '8', '3', '1', '2', '1', '7', '1', '2', '5', '1', '4', '4', '9', '9', '1', '2', '1', '1', '4', '1', '2', '1', '1', '1', '2', '1', '6', '5', '7', '1', '2', '5', '1', '1', '4', '1', '2', '5', '4', '2', '1', '1', '1', '8', '4', '8', '1', '2', '5', '1', '1', '5', '1', '2', '1', '1', '2', '1', '1', '1', '1', '3', '6', '1', '2', '1', '8', '3', '1', '2', '1', '1', '2', '1', '1', '2', '1', '4', '4', '1', '2', '6', '4', '1', '2', '1', '1']\n",
      "44.png ['8', '3', '8', '3', '1', '2', '1', '8', '3', '1', '2', '8', '5', '3', '1', '2', '1', '1', '2', '2', '6', '2', '-', '4', '3', '8', '3', '1', '2', '1', '1', '3', '6', '8', '3', '1', '3', '1', '2', '8', '1', '5', '1', '2', '1', '9', '7', '8', '3', '1', '2', '8', '1', '2', '8', '2', '1', '2', '1', '1', '2', '8', '1', '3', '1', '2', '8', '1', '3', '6', '2', '1', '3', '6', '1', '3', '1', '2', '8']\n",
      "46.png ['1', '2', '1', '2', '9', '2', '6', '6', '1', '4', '1', '3', '7', '1', '1', '7', '1', '2', '1', '1', '2', '5', '1', '4', '6', '1', '4', '1', '8', '-', '4', '1', '3', '1', '1', '1', '7', '6', '6', '1', '1', '1', '5', '9', '5', '9', '1', '4', '6', '1', '2', '6', '1', '2', '1', '1', '2', '6', '3', '1', '1', '3', '1', '3', '1', '6', '1', '3', '6', '1', '3', '4', '5', '9']\n",
      "48.png ['7', '1', '4', '6', '1', '4', '4', '7', '1', '2', '5', '1', '2', '1', '1', '2', '4', '8', '1', '9', '1', '2', '5', '1', '2', '5', '6', '9', '9', '1', '4', '1', '1', '4', '1', '-', '1', '2', '1', '4', '1', '2', '5', '2', '1', '2', '1', '1', '5', '1', '1', '1', '4', '4', '4', '1', '2', '2', '7', '1', '3', '6', '6', '4', '8', '2', '1', '2', '1', '1', '1', '5', '4', '2', '9', '1', '2', '7', '1', '2', '1', '2', '4', '5', '1', '2', '1', '2', '1', '4', '6', '2', '9', '1', '2', '9', '1', '1', '2', '7', '8', '8', '4', '6']\n",
      "50.png ['1', '9', '1', '2', '8', '1', '2', '9', '1', '2', '7', '1', '2', '9', '1', '2', '9', '1', '2', '7', '4', '6', '2', '9', '1', '1', '2', '9', '1', '2', '2', '1', '2', '9', '1', '2', '1', '3', '1', '2', '3', '8', '1', '1', '2', '2', '1', '2', '1', '1', '8', '1', '2', '1', '3', '1', '1', '2', '6']\n",
      "52.png ['1', '4', '6', '1', '4', '6', '1', '3', '1', '8', '3', '2', '8', '3', '5', '1', '2', '4', '8', '3', '1', '2', '8', '1', '2', '1', '1', '2', '1', '9', '1', '4', '5', '1', '3', '1', '7', '9', '1', '3', '1', '1', '2', '4', '1', '2', '4', '4', '1', '1', '3', '1', '4', '9', '7', '8', '3', '1', '2', '4', '8', '8', '1', '3', '4', '1', '2', '8', '1', '2', '1', '2', '4', '1', '2', '1', '7', '8', '9', '1', '4', '5', '-', '9', '1', '2', '4', '8', '3', '1', '3', '1', '1', '3', '4', '8', '2', '1', '2', '4', '4', '3', '1', '1', '2', '1', '1', '2', '4', '1', '2', '1', '2', '4', '1', '3', '4', '-', '7', '1', '1', '1', '3', '1', '1', '2', '1', '1', '2', '4', '1', '2', '1', '1', '2', '4', '4', '9', '4', '4', '1', '3', '8', '1', '1', '3', '4', '1', '4', '6', '3', '8', '6', '1', '3', '4', '4', '2', '5', '1', '1', '3', '6', '1', '3', '1', '2', '1', '1', '2', '4', '1', '2', '1', '2', '1', '1', '2', '6', '1', '3', '6', '1', '3', '1', '2', '1', '8', '1', '2', '1', '2']\n"
     ]
    }
   ],
   "source": [
    "for image in ls:\n",
    "    if image[0] != '.':\n",
    "        temp = pytesseract.image_to_string(Image.open('Saved/' + image))\n",
    "        lista = []\n",
    "        for elem in temp:\n",
    "            if len(elem) > 0 and elem is not '\\n' and elem is not ' ':\n",
    "                try: \n",
    "                    if int(elem):\n",
    "                        lista.append(elem)\n",
    "                except:\n",
    "                    if elem == '-':\n",
    "                        lista.append(elem)    \n",
    "                    \n",
    "        print(image,lista)\n",
    "        if len(lista) <= 10:\n",
    "            img = cv2.imread('Saved/' + image)\n",
    "            lab = cv2.cvtColor(img, cv2.COLOR_BGR2LAB)\n",
    "            l, a, b = cv2.split(lab)\n",
    "            clahe = cv2.createCLAHE(clipLimit=3.0, tileGridSize=(8,8))\n",
    "            cl = clahe.apply(l)\n",
    "            clm = cv2.blur(cl, ksize=(4,4))\n",
    "            cv2.imwrite('Saved/' + image,clm)"
   ]
  },
  {
   "cell_type": "code",
   "execution_count": 42,
   "metadata": {},
   "outputs": [],
   "source": [
    "import pymongo\n",
    "con = pymongo.MongoClient()\n",
    "coll = con.alstom.figure"
   ]
  },
  {
   "cell_type": "code",
   "execution_count": 43,
   "metadata": {},
   "outputs": [],
   "source": [
    "import json"
   ]
  },
  {
   "cell_type": "code",
   "execution_count": 44,
   "metadata": {},
   "outputs": [],
   "source": [
    "try:\n",
    "    mongo_id = int(coll.find_one(sort=[(\"_id\", -1)])[\"_id\"])\n",
    "except:\n",
    "    mongo_id = 0  "
   ]
  },
  {
   "cell_type": "code",
   "execution_count": 45,
   "metadata": {},
   "outputs": [
    {
     "data": {
      "text/plain": [
       "0"
      ]
     },
     "execution_count": 45,
     "metadata": {},
     "output_type": "execute_result"
    }
   ],
   "source": [
    "mongo_id"
   ]
  },
  {
   "cell_type": "code",
   "execution_count": 46,
   "metadata": {},
   "outputs": [],
   "source": [
    "for image in ls:\n",
    "    if image[0] != '.':\n",
    "        temp = pytesseract.image_to_data(Image.open('Saved/' + image), output_type='data.frame')\n",
    "        temp = temp.dropna()\n",
    "        is_not_empty = temp['text'] != ' '\n",
    "        temp = temp[is_not_empty]\n",
    "        is_number = temp['text'].str.contains('^[1-9+]')\n",
    "        temp = temp[is_number]\n",
    "        temp['_id'] = 0\n",
    "        temp['page_num'] = image[:-4]\n",
    "        for k,r in temp.iterrows():\n",
    "            mongo_id = mongo_id + 1\n",
    "            temp.at[k, '_id'] = mongo_id\n",
    "        #print(temp)\n",
    "        #ICD.display(temp)\n",
    "        #temp.to_json('Json/' + image[:-4] + '.json')\n",
    "        #print(temp.to_json(orient='records'))\n",
    "        if len(temp.to_json(orient='records')) > 3:\n",
    "            jsons = json.loads(temp.to_json(orient='records'))\n",
    "            for json_ in jsons:\n",
    "                try:\n",
    "                    coll.insert_one(json_)\n",
    "                except:\n",
    "                    print(json_, \"duplicate key\")"
   ]
  },
  {
   "cell_type": "code",
   "execution_count": null,
   "metadata": {},
   "outputs": [],
   "source": []
  },
  {
   "cell_type": "code",
   "execution_count": null,
   "metadata": {},
   "outputs": [],
   "source": []
  }
 ],
 "metadata": {
  "kernelspec": {
   "display_name": "Python 3",
   "language": "python",
   "name": "python3"
  },
  "language_info": {
   "codemirror_mode": {
    "name": "ipython",
    "version": 3
   },
   "file_extension": ".py",
   "mimetype": "text/x-python",
   "name": "python",
   "nbconvert_exporter": "python",
   "pygments_lexer": "ipython3",
   "version": "3.7.3"
  }
 },
 "nbformat": 4,
 "nbformat_minor": 2
}
