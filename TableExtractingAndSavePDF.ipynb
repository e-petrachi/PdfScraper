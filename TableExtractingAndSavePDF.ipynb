{
 "cells": [
  {
   "cell_type": "code",
   "execution_count": 53,
   "metadata": {},
   "outputs": [],
   "source": [
    "import camelot"
   ]
  },
  {
   "cell_type": "code",
   "execution_count": 54,
   "metadata": {},
   "outputs": [],
   "source": [
    "import pymongo\n",
    "con = pymongo.MongoClient()\n",
    "coll = con.alstom.data"
   ]
  },
  {
   "cell_type": "code",
   "execution_count": 57,
   "metadata": {},
   "outputs": [],
   "source": [
    "pages = [str(i) for i in range(23,53,2)]"
   ]
  },
  {
   "cell_type": "code",
   "execution_count": 58,
   "metadata": {},
   "outputs": [],
   "source": [
    "tables = camelot.read_pdf('Images/demo.pdf', pages=','.join(pages))"
   ]
  },
  {
   "cell_type": "code",
   "execution_count": 66,
   "metadata": {},
   "outputs": [],
   "source": [
    "try:\n",
    "    mongo_id = int(coll.find_one(sort=[(\"_id\", -1)])[\"_id\"])\n",
    "except:\n",
    "    mongo_id = 0  "
   ]
  },
  {
   "cell_type": "code",
   "execution_count": 67,
   "metadata": {},
   "outputs": [],
   "source": [
    "i = 0\n",
    "for table in tables:\n",
    "    indexs = table.df[0][0].lower().split(\"\\n\")\n",
    "    #print(indexs)\n",
    "    \n",
    "    title = indexs[1].strip()\n",
    "    tabella = indexs[2].strip().split(\"tavola \")[1].replace(\"/\",\"\")\n",
    "    edition = indexs[4].strip().split(\"edizione \")[1]\n",
    "    page = indexs[5].strip().split(\"pag.  \")[1]\n",
    "    \n",
    "    descriptions = table.df[1][4].split(\" \\n\")\n",
    "    ids = table.df[2][4].split(\" \\n\")\n",
    "    suppliers = table.df[3][4].split(\" \\n\")\n",
    "    documents = table.df[4][4].split(\" \\n\")\n",
    "    indentifiers = table.df[5][4].split(\" \\n\")\n",
    "    pieces = table.df[7][4].split(\" \\n\")\n",
    "    notes = table.df[9][4].split(\" \\n\")\n",
    "    \n",
    "    \n",
    "    if len(descriptions) == len(ids):\n",
    "        for id, value in enumerate(ids, start=0):\n",
    "            mongo_id += 1            \n",
    "            json = {\"_id\" : mongo_id, \n",
    "                        \"macro_id\" : tabella, \n",
    "                        \"table_title\" : title,\n",
    "                        \"table_edition\" : edition,\n",
    "                        \"table_page\" : page,\n",
    "                        \"pdf_table_pages\" : int(pages[i]), \n",
    "                        \"pdf_image_pages\" : int(pages[i])+1,\n",
    "                        \n",
    "                        \"id\" : value, \n",
    "                        \"description\" : descriptions[id],\n",
    "                        \"supplier\" : suppliers[id],\n",
    "                        \"document\" : documents[id],\n",
    "                        \"indentifier\" : indentifiers[id],\n",
    "                        \"piece\" : pieces[id]\n",
    "                       }\n",
    "            try:\n",
    "                #print(json)\n",
    "                coll.insert_one(json)\n",
    "            except:\n",
    "                print(json, \"duplicate key\")\n",
    "            \n",
    "    i += 1"
   ]
  },
  {
   "cell_type": "code",
   "execution_count": null,
   "metadata": {},
   "outputs": [],
   "source": []
  },
  {
   "cell_type": "code",
   "execution_count": null,
   "metadata": {},
   "outputs": [],
   "source": []
  }
 ],
 "metadata": {
  "kernelspec": {
   "display_name": "Python 3",
   "language": "python",
   "name": "python3"
  },
  "language_info": {
   "codemirror_mode": {
    "name": "ipython",
    "version": 3
   },
   "file_extension": ".py",
   "mimetype": "text/x-python",
   "name": "python",
   "nbconvert_exporter": "python",
   "pygments_lexer": "ipython3",
   "version": "3.7.3"
  }
 },
 "nbformat": 4,
 "nbformat_minor": 2
}
